{
  "nbformat": 4,
  "nbformat_minor": 0,
  "metadata": {
    "colab": {
      "provenance": []
    },
    "kernelspec": {
      "name": "python3",
      "display_name": "Python 3"
    },
    "language_info": {
      "name": "python"
    }
  },
  "cells": [
    {
      "cell_type": "markdown",
      "source": [
        "For the following code, there are 4 employment state. All variables can be adjusted to accomodate different circumstances."
      ],
      "metadata": {
        "id": "Bp-crDSYYlyT"
      }
    },
    {
      "cell_type": "code",
      "source": [
        "import numpy as np\n",
        "## plan via policy iteration\n",
        "alpha = 0.2\n",
        "n = 5 # total number of states including the unemployment state\n",
        "\n",
        "# prob: define transition probability at unemployment state pi\n",
        "prob = np.array([0, 0.1,    0.2,      0.3,     0.4])\n",
        "\n",
        "# initialize transition probability matrix. The first row is initialized to 0\n",
        "trans_prob = np.array([[0,        0,       0,        0,       0],\n",
        "                       [alpha, 1-alpha,   0,        0,       0],\n",
        "                       [alpha,   0,    1-alpha,     0,       0],\n",
        "                       [alpha,   0,       0,      1-alpha,   0],\n",
        "                       [alpha,   0,       0,        0,    1-alpha],])\n",
        "\n",
        "# wages and log wages\n",
        "wages = np.array([10,20,30,40,50])\n",
        "R_ini = np.array([np.log(wages[0]),np.log(wages[1]),np.log(wages[2]),\\\n",
        "                  np.log(wages[3]),np.log(wages[4])])\n",
        "discount = 0.9\n",
        "num_iters = 1000\n",
        "\n",
        "# construct a list of all possible actions\n",
        "# ex. 3 employment states action list = \n",
        "# [[True, True, True],\n",
        "#  [True, True, False],\n",
        "#  [True, False, True],\n",
        "#  [True, False, False],\n",
        "#  [False, True, True],\n",
        "#  [False, True, False],\n",
        "#  [False, False, True],\n",
        "#  [False, False, False]]\n",
        "def getAList(N):\n",
        "  res = []\n",
        "  def helper(x, curr):\n",
        "    if x <=0:\n",
        "      res.append(curr.copy())\n",
        "      return\n",
        "    helper(x-1, curr+ [True])\n",
        "    helper(x-1, curr+ [False])\n",
        "  helper(N, [])\n",
        "  return res\n",
        "action_list = getAList(n-1)\n",
        "\n",
        "# initialize policy to always declining the offer\n",
        "policy = action_list[-1]\n",
        "V_list = []\n",
        "for iter in range(num_iters):\n",
        "  # compute value function\n",
        "  transition_matrix = trans_prob\n",
        "  R0 = 0\n",
        "  for i in range(1, n):\n",
        "    a = policy[i-1]\n",
        "    if a:\n",
        "      # if accept the offer:\n",
        "      transition_matrix[0, i] = prob[i]\n",
        "      R0 +=prob[i]*np.log(wages[i])\n",
        "    else:\n",
        "      # if decline the offer:\n",
        "      transition_matrix[0, i] = 0\n",
        "      transition_matrix[0, 0] += prob[i]\n",
        "      R0 += prob[i]*np.log(wages[0])\n",
        "  R = R_ini\n",
        "  R[0] = R0\n",
        "  V = np.linalg.solve(np.eye(n) - discount * transition_matrix, R)\n",
        "  V_list.append(V)\n",
        "\n",
        "  # compute action value function\n",
        "  Q = []\n",
        "  for a in action_list:\n",
        "    q = 0\n",
        "    for i in range(n-1):\n",
        "      if a[i]:\n",
        "        # if accept the offer:\n",
        "        q += prob[i+1]*R_ini[i+1]+discount*prob[i+1]*V[i+1]\n",
        "      else:\n",
        "        # if decline the offer:\n",
        "        q += prob[i+1]*R_ini[0]+discount*prob[i+1]*V[0]\n",
        "    Q.append(q)\n",
        "\n",
        "  # update policy\n",
        "  policy = action_list[np.argmax(Q)]\n",
        "\n",
        "# report optimal policy\n",
        "print('Optimal policy:')\n",
        "print(policy)\n",
        "print('Optimal Value Function:')\n",
        "print(V_list[-1])\n",
        "\n",
        "# plot optimal value function\n",
        "import matplotlib.pyplot as plt\n",
        "import pylab\n",
        "N = range(n)\n",
        "plt.plot(N, V_list[-1], 'red')\n",
        "# plt.plot(N, V_list[0], 'red')\n",
        "plt.xticks(N)\n",
        "plt.xlabel(r'state s', fontsize=20)\n",
        "plt.ylabel('value', fontsize=20)\n",
        "plt.show()"
      ],
      "metadata": {
        "colab": {
          "base_uri": "https://localhost:8080/",
          "height": 359
        },
        "id": "E-_zV2vXO45r",
        "outputId": "d12d8cf7-0be4-481a-f670-72fbb3dc7a85"
      },
      "execution_count": null,
      "outputs": [
        {
          "output_type": "stream",
          "name": "stdout",
          "text": [
            "Optimal policy:\n",
            "[True, True, True, True]\n",
            "Optimal Value Function:\n",
            "[-32.15311325  -9.97081468  -8.52272501  -7.49528904  -6.69834779]\n"
          ]
        },
        {
          "output_type": "display_data",
          "data": {
            "text/plain": [
              "<Figure size 432x288 with 1 Axes>"
            ],
            "image/png": "[encoded data removed]"
          },
          "metadata": {
            "needs_background": "light"
          }
        }
      ]
    },
    {
      "cell_type": "code",
      "source": [],
      "metadata": {
        "id": "N8apy3NlZbx7"
      },
      "execution_count": null,
      "outputs": []
    }
  ]
}